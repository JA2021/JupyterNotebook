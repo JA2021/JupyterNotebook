{
 "cells": [
  {
   "cell_type": "markdown",
   "id": "4c859ed6-6f30-4ba4-abe2-737d48b2b2f5",
   "metadata": {},
   "source": [
    "# Data Science Tools and Ecosystem"
   ]
  },
  {
   "cell_type": "markdown",
   "id": "1cf68142-9dd3-41dc-93e4-26aeddbfd8d9",
   "metadata": {
    "tags": []
   },
   "source": [
    "In this notebook, Data Science Tools and Ecosystem are summarized."
   ]
  },
  {
   "cell_type": "markdown",
   "id": "2c2d486a-6226-4a23-a45f-1087fb969145",
   "metadata": {},
   "source": [
    "Some of the popular languages that Data Scientists use are:\n",
    "\n",
    "```\n",
    "1. Python\n",
    "2. R\n",
    "3. sql\n",
    "```"
   ]
  },
  {
   "cell_type": "markdown",
   "id": "58a368e2-191e-469e-bb6d-fb3cc96cd497",
   "metadata": {
    "tags": []
   },
   "source": [
    "### Objectives:\n",
    "```\n",
    "*List popular languages for Data Science.\n",
    "*Describe commonly used data science libraries.\n",
    "*Highlight open source tools used in data science.\n",
    "*Demonstrate evaluating arithmetic expressions.\n",
    "*Convert units (e.g. minutes to hours).\n",
    "```"
   ]
  },
  {
   "cell_type": "markdown",
   "id": "5b246039-433b-4093-ae52-e77de5b10d0c",
   "metadata": {},
   "source": [
    "Some of the commonly used libraries used by Data Scientists include:\n",
    "\n",
    "```\n",
    "\n",
    "1. matplotlib\n",
    "2. scikitlearn\n",
    "3. Pandas\n",
    "\n",
    "```"
   ]
  },
  {
   "cell_type": "markdown",
   "id": "e4e3829c-5b5c-488c-b0ee-869d22e53b93",
   "metadata": {
    "tags": []
   },
   "source": [
    "Data Science Tools | \n",
    "-----\n",
    "visual studio code \n",
    " R studio | \n",
    "Jupyter Notebook |"
   ]
  },
  {
   "cell_type": "markdown",
   "id": "f7d3adf4-cf3f-4a26-b999-924f323e84d1",
   "metadata": {},
   "source": [
    "### Below are a few examples of evaluating arithmetic expressions in Python."
   ]
  },
  {
   "cell_type": "code",
   "execution_count": 8,
   "id": "e19b4842-a032-49bd-b89d-877c7f23896d",
   "metadata": {
    "tags": []
   },
   "outputs": [
    {
     "data": {
      "text/plain": [
       "17"
      ]
     },
     "execution_count": 8,
     "metadata": {},
     "output_type": "execute_result"
    }
   ],
   "source": [
    "# This a simple arithmetic expression to multiply then add integers.\n",
    "(3*4)+5"
   ]
  },
  {
   "cell_type": "code",
   "execution_count": 10,
   "id": "a428d6e6-886b-46f2-9dc8-1c6043730e4e",
   "metadata": {
    "tags": []
   },
   "outputs": [
    {
     "data": {
      "text/plain": [
       "3.3333333333333335"
      ]
     },
     "execution_count": 10,
     "metadata": {},
     "output_type": "execute_result"
    }
   ],
   "source": [
    "# This will convert 200 minutes to hours by dividing by 60.\n",
    "200 / 60"
   ]
  },
  {
   "cell_type": "markdown",
   "id": "c8b6b5c0-9eba-4e1b-8ac1-fadbc581726e",
   "metadata": {},
   "source": [
    "## Author\n",
    "Jehan"
   ]
  },
  {
   "cell_type": "code",
   "execution_count": null,
   "id": "7e7fdae1-73a6-4994-959b-317c476c1dd7",
   "metadata": {},
   "outputs": [],
   "source": []
  }
 ],
 "metadata": {
  "kernelspec": {
   "display_name": "Python",
   "language": "python",
   "name": "conda-env-python-py"
  },
  "language_info": {
   "codemirror_mode": {
    "name": "ipython",
    "version": 3
   },
   "file_extension": ".py",
   "mimetype": "text/x-python",
   "name": "python",
   "nbconvert_exporter": "python",
   "pygments_lexer": "ipython3",
   "version": "3.7.12"
  }
 },
 "nbformat": 4,
 "nbformat_minor": 5
}
